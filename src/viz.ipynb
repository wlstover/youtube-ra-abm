{
 "cells": [
  {
   "cell_type": "code",
   "execution_count": 1,
   "metadata": {},
   "outputs": [],
   "source": [
    "from mesa.visualization.modules import CanvasGrid\n",
    "from mesa.visualization.ModularVisualization import ModularServer\n",
    "from mesa.visualization.modules import ChartModule\n",
    "\n",
    "from video_recommendations import VideoRecommendationsModel, Watcher\n",
    "import solara\n",
    "from mesa.experimental import JupyterViz\n",
    "\n",
    "# Define the visualization elements\n",
    "# Define the visualization elements\n",
    "def agent_portrayal(agent):\n",
    "    portrayal = {\"shape\": \"circle\",\n",
    "                 \"filled\": \"true\",\n",
    "                 \"r\": 0.5,\n",
    "                 \"layer\": 0}\n",
    "\n",
    "    if isinstance(agent, Watcher):\n",
    "        if agent.type == 'searcher':\n",
    "            portrayal[\"color\"] = \"red\"\n",
    "        else:\n",
    "            portrayal[\"color\"] = \"black\"\n",
    "    else:\n",
    "        if agent.opened == True:\n",
    "            portrayal[\"color\"] = \"gray\"\n",
    "        elif agent.recommended == True:\n",
    "            portrayal[\"color\"] = \"green\"\n",
    "        else:\n",
    "            portrayal[\"color\"] = \"blue\"\n",
    "       #portrayal[\"shape\"] = \"triangle\"\n",
    "\n",
    "    return portrayal"
   ]
  },
  {
   "cell_type": "code",
   "execution_count": 2,
   "metadata": {},
   "outputs": [],
   "source": [
    "model_params = {\n",
    "\"num_agents\": {\n",
    "    \"type\": \"SliderInt\",\n",
    "    \"value\": 10,\n",
    "    \"label\": \"Number of searchers\",\n",
    "    \"min\": 10,\n",
    "    \"max\": 100,\n",
    "    \"step\": 1\n",
    "},\n",
    "\"agent_acuity_floor\": {\n",
    "    \"type\": \"SliderInt\",\n",
    "    \"label\": \"Agent Acuity Floor\",\n",
    "    \"value\": 10,\n",
    "    \"min\": 1,\n",
    "    \"max\": 100,\n",
    "    \"step\": 1\n",
    "},\n",
    "\"recommender_acuity\": {\n",
    "    \"type\": \"SliderFloat\",\n",
    "    \"label\": \"Recommender System Accuity\",\n",
    "    \"value\": 0.5,\n",
    "    \"min\": 0,\n",
    "    \"max\": 1,\n",
    "    \"step\": 0.01\n",
    "},\n",
    "\"recommender_trust_step\": {\n",
    "    \"type\": \"SliderInt\",\n",
    "    \"label\": \"Recommender System Trust Step\",\n",
    "    \"value\": 1,\n",
    "    \"min\": 1,\n",
    "    \"max\": 10,\n",
    "    \"step\": 1\n",
    "},\n",
    "\"width\": 20,\n",
    "\"height\": 20\n",
    "}"
   ]
  },
  {
   "cell_type": "code",
   "execution_count": 3,
   "metadata": {},
   "outputs": [
    {
     "name": "stderr",
     "output_type": "stream",
     "text": [
      "C:\\Users\\walte\\AppData\\Roaming\\Python\\Python311\\site-packages\\mesa\\time.py:82: FutureWarning: The AgentSet is experimental. It may be changed or removed in any and all future releases, including patch releases.\n",
      "We would love to hear what you think about this new feature. If you have any thoughts, share them with us here: https://github.com/projectmesa/mesa/discussions/1919\n",
      "  self._agents: AgentSet = AgentSet(agents, model)\n",
      "Component react.component(mesa.experimental.jupyter_viz.JupyterViz) raised exception KeyError('recommender_trust')\n",
      "Traceback (most recent call last):\n",
      "  File \"c:\\Python311\\Lib\\site-packages\\pandas\\core\\indexes\\base.py\", line 3653, in get_loc\n",
      "    return self._engine.get_loc(casted_key)\n",
      "           ^^^^^^^^^^^^^^^^^^^^^^^^^^^^^^^^\n",
      "  File \"pandas\\_libs\\index.pyx\", line 147, in pandas._libs.index.IndexEngine.get_loc\n",
      "  File \"pandas\\_libs\\index.pyx\", line 176, in pandas._libs.index.IndexEngine.get_loc\n",
      "  File \"pandas\\_libs\\hashtable_class_helper.pxi\", line 7080, in pandas._libs.hashtable.PyObjectHashTable.get_item\n",
      "  File \"pandas\\_libs\\hashtable_class_helper.pxi\", line 7088, in pandas._libs.hashtable.PyObjectHashTable.get_item\n",
      "KeyError: 'recommender_trust'\n",
      "\n",
      "The above exception was the direct cause of the following exception:\n",
      "\n",
      "Traceback (most recent call last):\n",
      "  File \"C:\\Users\\walte\\AppData\\Roaming\\Python\\Python311\\site-packages\\reacton\\core.py\", line 1675, in _render\n",
      "    root_element = el.component.f(*el.args, **el.kwargs)\n",
      "                   ^^^^^^^^^^^^^^^^^^^^^^^^^^^^^^^^^^^^^\n",
      "  File \"C:\\Users\\walte\\AppData\\Roaming\\Python\\Python311\\site-packages\\mesa\\experimental\\jupyter_viz.py\", line 153, in JupyterViz\n",
      "    render_in_jupyter()\n",
      "  File \"C:\\Users\\walte\\AppData\\Roaming\\Python\\Python311\\site-packages\\mesa\\experimental\\jupyter_viz.py\", line 120, in render_in_jupyter\n",
      "    components_matplotlib.make_plot(model, measure)\n",
      "  File \"C:\\Users\\walte\\AppData\\Roaming\\Python\\Python311\\site-packages\\mesa\\experimental\\components\\matplotlib.py\", line 120, in make_plot\n",
      "    ax.plot(df.loc[:, measure])\n",
      "            ~~~~~~^^^^^^^^^^^^\n",
      "  File \"c:\\Python311\\Lib\\site-packages\\pandas\\core\\indexing.py\", line 1097, in __getitem__\n",
      "    return self._getitem_tuple(key)\n",
      "           ^^^^^^^^^^^^^^^^^^^^^^^^\n",
      "  File \"c:\\Python311\\Lib\\site-packages\\pandas\\core\\indexing.py\", line 1280, in _getitem_tuple\n",
      "    return self._getitem_lowerdim(tup)\n",
      "           ^^^^^^^^^^^^^^^^^^^^^^^^^^^\n",
      "  File \"c:\\Python311\\Lib\\site-packages\\pandas\\core\\indexing.py\", line 1000, in _getitem_lowerdim\n",
      "    section = self._getitem_axis(key, axis=i)\n",
      "              ^^^^^^^^^^^^^^^^^^^^^^^^^^^^^^^\n",
      "  File \"c:\\Python311\\Lib\\site-packages\\pandas\\core\\indexing.py\", line 1343, in _getitem_axis\n",
      "    return self._get_label(key, axis=axis)\n",
      "           ^^^^^^^^^^^^^^^^^^^^^^^^^^^^^^^\n",
      "  File \"c:\\Python311\\Lib\\site-packages\\pandas\\core\\indexing.py\", line 1293, in _get_label\n",
      "    return self.obj.xs(label, axis=axis)\n",
      "           ^^^^^^^^^^^^^^^^^^^^^^^^^^^^^\n",
      "  File \"c:\\Python311\\Lib\\site-packages\\pandas\\core\\generic.py\", line 4082, in xs\n",
      "    return self[key]\n",
      "           ~~~~^^^^^\n",
      "  File \"c:\\Python311\\Lib\\site-packages\\pandas\\core\\frame.py\", line 3761, in __getitem__\n",
      "    indexer = self.columns.get_loc(key)\n",
      "              ^^^^^^^^^^^^^^^^^^^^^^^^^\n",
      "  File \"c:\\Python311\\Lib\\site-packages\\pandas\\core\\indexes\\base.py\", line 3655, in get_loc\n",
      "    raise KeyError(key) from err\n",
      "KeyError: 'recommender_trust'\n"
     ]
    },
    {
     "data": {
      "application/vnd.jupyter.widget-view+json": {
       "model_id": "cd02a79f80f148a99704ac029bcf4d78",
       "version_major": 2,
       "version_minor": 0
      },
      "text/html": [
       "Cannot show widget. You probably want to rerun the code cell above (<i>Click in the code cell, and press Shift+Enter <kbd>⇧</kbd>+<kbd>↩</kbd></i>)."
      ],
      "text/plain": [
       "Cannot show ipywidgets in text"
      ]
     },
     "metadata": {},
     "output_type": "display_data"
    }
   ],
   "source": [
    "page = JupyterViz(\n",
    "    VideoRecommendationsModel,\n",
    "    model_params,\n",
    "    measures=[[\"searcher_search_quality\", \"mimic_search_quality\"],\n",
    "              \"percent_recommended\"],\n",
    "    name=\"Video Recommendations\",\n",
    "    agent_portrayal=agent_portrayal,\n",
    ")\n",
    "\n",
    "page"
   ]
  },
  {
   "cell_type": "code",
   "execution_count": null,
   "metadata": {},
   "outputs": [],
   "source": []
  }
 ],
 "metadata": {
  "kernelspec": {
   "display_name": "Python 3",
   "language": "python",
   "name": "python3"
  },
  "language_info": {
   "codemirror_mode": {
    "name": "ipython",
    "version": 3
   },
   "file_extension": ".py",
   "mimetype": "text/x-python",
   "name": "python",
   "nbconvert_exporter": "python",
   "pygments_lexer": "ipython3",
   "version": "3.11.4"
  }
 },
 "nbformat": 4,
 "nbformat_minor": 2
}
