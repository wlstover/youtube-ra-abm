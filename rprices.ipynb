{
 "cells": [
  {
   "cell_type": "code",
   "execution_count": 1,
   "metadata": {},
   "outputs": [],
   "source": [
    "import numpy as np\n",
    "import random"
   ]
  },
  {
   "cell_type": "code",
   "execution_count": 2,
   "metadata": {},
   "outputs": [
    {
     "name": "stdout",
     "output_type": "stream",
     "text": [
      "[2.3608160417241995, 1.1955755824991516, 0.4700123896616182]\n"
     ]
    }
   ],
   "source": [
    "def weitzman_reservation_price(distributions, search_cost):\n",
    "    \"\"\"\n",
    "    Generates a distribution of reservation prices using Weitzman's optimal search framework.\n",
    "\n",
    "    Args:\n",
    "    distributions (list): A list of tuples (mean, std_dev) representing the parameters of normal distributions for each alternative.\n",
    "    search_cost (float): The cost of searching for a new alternative.\n",
    "\n",
    "    Returns:\n",
    "    list: A list of reservation prices for each alternative.\n",
    "    \"\"\"\n",
    "\n",
    "    reservation_prices = []\n",
    "\n",
    "    for mean, std_dev in distributions:\n",
    "        # Calculate the Gittins index for each alternative\n",
    "        gittins_index = mean - (search_cost * (std_dev ** 2))\n",
    "\n",
    "        # Calculate the reservation price for each alternative\n",
    "        reservation_price = gittins_index * (1 - np.exp(-2 * search_cost / (std_dev ** 2)))\n",
    "        reservation_prices.append(reservation_price)\n",
    "\n",
    "    return reservation_prices\n",
    "\n",
    "# Example usage\n",
    "distributions = [(10, 2), (15, 3), (20, 4)]\n",
    "search_cost = 1\n",
    "\n",
    "reservation_prices = weitzman_reservation_price(distributions, search_cost)\n",
    "print(reservation_prices)\n"
   ]
  },
  {
   "cell_type": "code",
   "execution_count": 8,
   "metadata": {},
   "outputs": [],
   "source": [
    "def gen_Box_Val(p, full_val):\n",
    "    val = random.choice([0, full_val, p])\n",
    "    return val    "
   ]
  },
  {
   "cell_type": "code",
   "execution_count": 17,
   "metadata": {},
   "outputs": [],
   "source": [
    "box = gen_Box_Val(0.1, 100)"
   ]
  },
  {
   "cell_type": "code",
   "execution_count": 22,
   "metadata": {},
   "outputs": [],
   "source": [
    "def genVideoBoxes():\n",
    "\n",
    "    import numpy as np\n",
    "    import pandas as pd\n",
    "\n",
    "    np.random.seed(42)  # For reproducibility\n",
    "\n",
    "    # Define number of boxes\n",
    "    n_boxes = 100\n",
    "\n",
    "    # Define mean and standard deviation for prize and cost distributions\n",
    "    prize_mean = 100\n",
    "    prize_std = 20\n",
    "    cost_mean = 10\n",
    "    cost_std = 2\n",
    "\n",
    "    # Generate prizes and costs\n",
    "    prizes = np.random.normal(prize_mean, prize_std, n_boxes)\n",
    "    costs = np.random.normal(cost_mean, cost_std, n_boxes)\n",
    "\n",
    "    # Make sure that costs and prizes are not negative\n",
    "    costs = np.abs(costs)\n",
    "    prizes = np.abs(prizes)\n",
    "\n",
    "    # Create a DataFrame for better data management\n",
    "    df = pd.DataFrame({\n",
    "        'prize': prizes,\n",
    "        'cost': costs\n",
    "    })\n",
    "\n",
    "    return df\n",
    "\n",
    "def solveVideoBoxes(vdf):\n",
    "    # Calculate indices\n",
    "    vdf['index'] = vdf['prize'] - vdf['cost']\n",
    "\n",
    "    total_prize = 0\n",
    "    total_cost = 0\n",
    "\n",
    "    while len(vdf) > 0:\n",
    "        # Find the box with the maximum index\n",
    "        max_index_box = vdf['index'].idxmax()\n",
    "\n",
    "        # If the index is positive, open the box\n",
    "        if vdf.loc[max_index_box, 'index'] > 0:\n",
    "            total_prize += vdf.loc[max_index_box, 'prize']\n",
    "            total_cost += vdf.loc[max_index_box, 'cost']\n",
    "            vdf.drop(max_index_box, inplace=True)\n",
    "        else:\n",
    "            break\n",
    "\n",
    "    print(\"Total prize:\", total_prize)\n",
    "    print(\"Total cost:\", total_cost)\n",
    "    print(\"Net gain:\", total_prize - total_cost)\n"
   ]
  },
  {
   "cell_type": "code",
   "execution_count": 23,
   "metadata": {},
   "outputs": [],
   "source": [
    "vdf = genVideoBoxes()"
   ]
  },
  {
   "cell_type": "code",
   "execution_count": 37,
   "metadata": {},
   "outputs": [
    {
     "data": {
      "text/html": [
       "<div>\n",
       "<style scoped>\n",
       "    .dataframe tbody tr th:only-of-type {\n",
       "        vertical-align: middle;\n",
       "    }\n",
       "\n",
       "    .dataframe tbody tr th {\n",
       "        vertical-align: top;\n",
       "    }\n",
       "\n",
       "    .dataframe thead th {\n",
       "        text-align: right;\n",
       "    }\n",
       "</style>\n",
       "<table border=\"1\" class=\"dataframe\">\n",
       "  <thead>\n",
       "    <tr style=\"text-align: right;\">\n",
       "      <th></th>\n",
       "      <th>prize</th>\n",
       "      <th>cost</th>\n",
       "    </tr>\n",
       "  </thead>\n",
       "  <tbody>\n",
       "    <tr>\n",
       "      <th>0</th>\n",
       "      <td>109.934283</td>\n",
       "      <td>7.169259</td>\n",
       "    </tr>\n",
       "    <tr>\n",
       "      <th>1</th>\n",
       "      <td>97.234714</td>\n",
       "      <td>9.158709</td>\n",
       "    </tr>\n",
       "    <tr>\n",
       "      <th>2</th>\n",
       "      <td>112.953771</td>\n",
       "      <td>9.314571</td>\n",
       "    </tr>\n",
       "    <tr>\n",
       "      <th>3</th>\n",
       "      <td>130.460597</td>\n",
       "      <td>8.395445</td>\n",
       "    </tr>\n",
       "    <tr>\n",
       "      <th>4</th>\n",
       "      <td>95.316933</td>\n",
       "      <td>9.677429</td>\n",
       "    </tr>\n",
       "    <tr>\n",
       "      <th>...</th>\n",
       "      <td>...</td>\n",
       "      <td>...</td>\n",
       "    </tr>\n",
       "    <tr>\n",
       "      <th>95</th>\n",
       "      <td>70.729701</td>\n",
       "      <td>10.770635</td>\n",
       "    </tr>\n",
       "    <tr>\n",
       "      <th>96</th>\n",
       "      <td>105.922406</td>\n",
       "      <td>8.232285</td>\n",
       "    </tr>\n",
       "    <tr>\n",
       "      <th>97</th>\n",
       "      <td>105.221105</td>\n",
       "      <td>10.307450</td>\n",
       "    </tr>\n",
       "    <tr>\n",
       "      <th>98</th>\n",
       "      <td>100.102269</td>\n",
       "      <td>10.116417</td>\n",
       "    </tr>\n",
       "    <tr>\n",
       "      <th>99</th>\n",
       "      <td>95.308257</td>\n",
       "      <td>7.714059</td>\n",
       "    </tr>\n",
       "  </tbody>\n",
       "</table>\n",
       "<p>100 rows × 2 columns</p>\n",
       "</div>"
      ],
      "text/plain": [
       "         prize       cost\n",
       "0   109.934283   7.169259\n",
       "1    97.234714   9.158709\n",
       "2   112.953771   9.314571\n",
       "3   130.460597   8.395445\n",
       "4    95.316933   9.677429\n",
       "..         ...        ...\n",
       "95   70.729701  10.770635\n",
       "96  105.922406   8.232285\n",
       "97  105.221105  10.307450\n",
       "98  100.102269  10.116417\n",
       "99   95.308257   7.714059\n",
       "\n",
       "[100 rows x 2 columns]"
      ]
     },
     "execution_count": 37,
     "metadata": {},
     "output_type": "execute_result"
    }
   ],
   "source": [
    "vdf"
   ]
  },
  {
   "cell_type": "code",
   "execution_count": 24,
   "metadata": {},
   "outputs": [
    {
     "data": {
      "text/html": [
       "<div>\n",
       "<style scoped>\n",
       "    .dataframe tbody tr th:only-of-type {\n",
       "        vertical-align: middle;\n",
       "    }\n",
       "\n",
       "    .dataframe tbody tr th {\n",
       "        vertical-align: top;\n",
       "    }\n",
       "\n",
       "    .dataframe thead th {\n",
       "        text-align: right;\n",
       "    }\n",
       "</style>\n",
       "<table border=\"1\" class=\"dataframe\">\n",
       "  <thead>\n",
       "    <tr style=\"text-align: right;\">\n",
       "      <th></th>\n",
       "      <th>prize</th>\n",
       "      <th>cost</th>\n",
       "    </tr>\n",
       "  </thead>\n",
       "  <tbody>\n",
       "    <tr>\n",
       "      <th>0</th>\n",
       "      <td>109.934283</td>\n",
       "      <td>7.169259</td>\n",
       "    </tr>\n",
       "    <tr>\n",
       "      <th>1</th>\n",
       "      <td>97.234714</td>\n",
       "      <td>9.158709</td>\n",
       "    </tr>\n",
       "    <tr>\n",
       "      <th>2</th>\n",
       "      <td>112.953771</td>\n",
       "      <td>9.314571</td>\n",
       "    </tr>\n",
       "    <tr>\n",
       "      <th>3</th>\n",
       "      <td>130.460597</td>\n",
       "      <td>8.395445</td>\n",
       "    </tr>\n",
       "    <tr>\n",
       "      <th>4</th>\n",
       "      <td>95.316933</td>\n",
       "      <td>9.677429</td>\n",
       "    </tr>\n",
       "  </tbody>\n",
       "</table>\n",
       "</div>"
      ],
      "text/plain": [
       "        prize      cost\n",
       "0  109.934283  7.169259\n",
       "1   97.234714  9.158709\n",
       "2  112.953771  9.314571\n",
       "3  130.460597  8.395445\n",
       "4   95.316933  9.677429"
      ]
     },
     "execution_count": 24,
     "metadata": {},
     "output_type": "execute_result"
    }
   ],
   "source": [
    "vdf.head()"
   ]
  },
  {
   "cell_type": "code",
   "execution_count": 31,
   "metadata": {},
   "outputs": [],
   "source": [
    "zipped = list(zip(vdf['prize'], vdf['cost']))"
   ]
  },
  {
   "cell_type": "code",
   "execution_count": 29,
   "metadata": {},
   "outputs": [
    {
     "data": {
      "text/plain": [
       "109.93428306022466"
      ]
     },
     "execution_count": 29,
     "metadata": {},
     "output_type": "execute_result"
    }
   ],
   "source": [
    "zipped[0][0]"
   ]
  },
  {
   "cell_type": "code",
   "execution_count": 32,
   "metadata": {},
   "outputs": [
    {
     "data": {
      "text/plain": [
       "100"
      ]
     },
     "execution_count": 32,
     "metadata": {},
     "output_type": "execute_result"
    }
   ],
   "source": [
    "len(zipped)"
   ]
  },
  {
   "cell_type": "code",
   "execution_count": 35,
   "metadata": {},
   "outputs": [
    {
     "name": "stdout",
     "output_type": "stream",
     "text": [
      "1\n",
      "2\n",
      "3\n",
      "4\n",
      "5\n",
      "6\n",
      "7\n",
      "8\n",
      "9\n",
      "10\n",
      "11\n",
      "12\n",
      "13\n",
      "14\n",
      "15\n",
      "16\n",
      "17\n",
      "18\n",
      "19\n",
      "20\n",
      "21\n",
      "22\n",
      "23\n",
      "24\n",
      "25\n",
      "26\n",
      "27\n",
      "28\n",
      "29\n",
      "30\n",
      "31\n",
      "32\n",
      "33\n",
      "34\n",
      "35\n",
      "36\n",
      "37\n",
      "38\n",
      "39\n",
      "40\n",
      "41\n",
      "42\n",
      "43\n",
      "44\n",
      "45\n",
      "46\n",
      "47\n",
      "48\n",
      "49\n",
      "50\n",
      "51\n",
      "52\n",
      "53\n",
      "54\n",
      "55\n",
      "56\n",
      "57\n",
      "58\n",
      "59\n",
      "60\n",
      "61\n",
      "62\n",
      "63\n",
      "64\n",
      "65\n",
      "66\n",
      "67\n",
      "68\n",
      "69\n",
      "70\n",
      "71\n",
      "72\n",
      "73\n",
      "74\n",
      "75\n",
      "76\n",
      "77\n",
      "78\n",
      "79\n",
      "80\n",
      "81\n",
      "82\n",
      "83\n",
      "84\n",
      "85\n",
      "86\n",
      "87\n",
      "88\n",
      "89\n",
      "90\n",
      "91\n",
      "92\n",
      "93\n",
      "94\n",
      "95\n",
      "96\n",
      "97\n",
      "98\n",
      "99\n",
      "100\n"
     ]
    }
   ],
   "source": [
    "for i in range(1, (len(zipped)+1)):\n",
    "    print(i)"
   ]
  },
  {
   "cell_type": "code",
   "execution_count": 36,
   "metadata": {},
   "outputs": [
    {
     "name": "stdout",
     "output_type": "stream",
     "text": [
      "[(0, 0), (0, 1), (0, 2), (0, 3), (0, 4), (0, 5), (0, 6), (0, 7), (0, 8), (0, 9), (0, 10), (1, 0), (1, 1), (1, 2), (1, 3), (1, 4), (1, 5), (1, 6), (1, 7), (1, 8), (1, 9), (1, 10), (2, 0), (2, 1), (2, 2), (2, 3), (2, 4), (2, 5), (2, 6), (2, 7), (2, 8), (2, 9), (2, 10), (3, 0), (3, 1), (3, 2), (3, 3), (3, 4), (3, 5), (3, 6), (3, 7), (3, 8), (3, 9), (3, 10), (4, 0), (4, 1), (4, 2), (4, 3), (4, 4), (4, 5), (4, 6), (4, 7), (4, 8), (4, 9), (4, 10), (5, 0), (5, 1), (5, 2), (5, 3), (5, 4), (5, 5), (5, 6), (5, 7), (5, 8), (5, 9), (5, 10), (6, 0), (6, 1), (6, 2), (6, 3), (6, 4), (6, 5), (6, 6), (6, 7), (6, 8), (6, 9), (6, 10), (7, 0), (7, 1), (7, 2), (7, 3), (7, 4), (7, 5), (7, 6), (7, 7), (7, 8), (7, 9), (7, 10), (8, 0), (8, 1), (8, 2), (8, 3), (8, 4), (8, 5), (8, 6), (8, 7), (8, 8), (8, 9), (8, 10), (9, 0), (9, 1), (9, 2), (9, 3), (9, 4), (9, 5), (9, 6), (9, 7), (9, 8), (9, 9), (9, 10), (10, 0), (10, 1), (10, 2), (10, 3), (10, 4), (10, 5), (10, 6), (10, 7), (10, 8), (10, 9), (10, 10)]\n"
     ]
    }
   ],
   "source": [
    "import itertools\n",
    "\n",
    "set1 = range(11)  # integers from 0 through 10\n",
    "set2 = range(11)  # integers from 0 through 10\n",
    "\n",
    "# Get all combinations of integers from set1 and set2\n",
    "combinations = list(itertools.product(set1, set2))\n",
    "\n",
    "print(combinations)\n"
   ]
  },
  {
   "cell_type": "code",
   "execution_count": 48,
   "metadata": {},
   "outputs": [
    {
     "name": "stdout",
     "output_type": "stream",
     "text": [
      "(89.11234550949635, 11.17371418760054)\n",
      "(61.73439510684404, 14.926484224970572)\n",
      "(101.83521553071004, 9.470686333524087)\n",
      "(112.23352577681736, 10.464507394322007)\n",
      "(116.25051644788397, 11.926752258488644)\n",
      "(106.87236579136923, 11.043883131233795)\n",
      "(104.1772719000951, 8.433493415327526)\n",
      "(60.80659752240449, 9.35587696758865)\n",
      "(87.09760490789752, 8.492527671285021)\n",
      "(77.87330051987944, 12.317191158014808)\n",
      "(81.83951848957578, 12.285645629030041)\n",
      "(107.23272050095268, 9.509223767994259)\n",
      "(101.74094136476343, 10.026003783755813)\n",
      "(106.4816793878959, 10.500985700691754)\n",
      "(71.75392597329417, 11.503866065373549)\n",
      "(89.63459563452705, 10.96494483048637)\n",
      "(60.248621707982146, 15.440338333179238)\n",
      "(105.92240554129152, 8.232285127597734)\n",
      "(129.55788089483033, 7.858215003877776)\n",
      "(99.28347921780097, 9.845796581171792)\n",
      "(99.73005550524132, 7.87539257254779)\n",
      "(90.78722458080425, 7.526098578243836)\n",
      "(76.98012845155395, 8.018927349738624)\n",
      "(89.40479592465923, 8.30641256386319)\n",
      "(94.01985299068265, 12.907068154314633)\n",
      "(116.45089824206377, 8.161151531532393)\n",
      "(121.1424445243783, 7.359086773831447)\n",
      "(104.83924543132068, 10.120460419882052)\n",
      "(109.93428306022466, 7.1692585158991715)\n",
      "(93.44675706804463, 7.508522442576024)\n",
      "(95.3172608610164, 10.808101713629076)\n",
      "(114.76933159990821, 10.45491986920826)\n",
      "(130.46059712816052, 8.395445461556761)\n",
      "(118.30804235404148, 10.94647524914709)\n",
      "(105.22110544359779, 10.307450211891055)\n",
      "(106.62526862807128, 7.617393005594703)\n",
      "(131.58425631014782, 13.77237180242106)\n",
      "(119.51090254244718, 11.31310721726766)\n",
      "(101.35056409375848, 12.805588621872198)\n",
      "(131.29287311628013, 10.682303949633289)\n",
      "(89.96485912830927, 11.428000988184184)\n",
      "(101.9415509869608, 9.106970095865957)\n",
      "(86.46155999388083, 8.639950556843019)\n",
      "(83.21564953554723, 13.731549022289514)\n",
      "(118.62560238232398, 8.571297163947264)\n",
      "(119.37289981065778, 11.712797588646945)\n",
      "(110.26534866226712, 6.970305550628271)\n",
      "(97.2347139765763, 9.158709354469282)\n",
      "(110.8512008717193, 9.851108168467665)\n",
      "(93.81575248297571, 10.947665841823575)\n",
      "(102.21845179419732, 14.380911251619956)\n",
      "(107.51396036691344, 8.867404540794457)\n",
      "(79.74337759331152, 9.930576460589513)\n",
      "(116.43805008750448, 11.654366498072047)\n",
      "(106.57502219319369, 9.854342174686254)\n",
      "(70.72970103735763, 10.770634759457673)\n",
      "(75.58312700057955, 13.09986881003508)\n",
      "(106.28494665190547, 7.6626439247609355)\n",
      "(90.4165152430942, 8.050636659545358)\n",
      "(93.97792608821422, 10.36926771706461)\n",
      "(73.43627902203139, 11.62703443473934)\n",
      "(95.31693250553329, 9.677428576667982)\n",
      "(94.16612500413447, 8.993048691767601)\n",
      "(95.4844739902693, 8.181225090410521)\n",
      "(76.07586751838659, 8.358635363296578)\n",
      "(112.95377076201385, 9.31457096694646)\n",
      "(100.10226913284922, 10.116417436892)\n",
      "(107.14225143023492, 8.285684887167434)\n",
      "(83.83012794213624, 9.553074429348298)\n",
      "(87.96586775541206, 6.898673137867735)\n",
      "(97.68703435223519, 6.785033530877545)\n",
      "(64.73919689274533, 10.593969346466372)\n",
      "(70.42956019265145, 10.519765588496847)\n",
      "(103.4273656237994, 12.614285508564857)\n",
      "(71.50503627573087, 7.196297874415438)\n",
      "(95.30825733249706, 7.714059404338753)\n",
      "(127.12480057141646, 10.825561853872996)\n",
      "(92.15783693735685, 10.346361851702364)\n",
      "(65.50164334973934, 9.615278070437755)\n",
      "(103.93722471738246, 7.53827136713209)\n",
      "(90.68540492859486, 9.946972249101567)\n",
      "(130.76073132931938, 8.368379430069123)\n",
      "(47.60509791820511, 10.553381598660039)\n",
      "(137.04556369017877, 10.137125949612054)\n",
      "(88.75424941518054, 10.603094684667225)\n",
      "(92.29835439167367, 10.692896418993952)\n",
      "(90.61051228130096, 10.515100781445529)\n",
      "(96.28682046672365, 11.574169207484903)\n",
      "(87.9872262016239, 10.199302730175283)\n",
      "(120.61999044991902, 10.586144946597363)\n",
      "(90.73164614375075, 6.1624575694019175)\n",
      "(85.60311583210583, 11.56364574355462)\n",
      "(129.31297537843108, 11.582063894086094)\n",
      "(115.34869458305818, 10.349155625663679)\n",
      "(98.55979756839332, 11.64412031998898)\n",
      "(107.22791211016828, 8.220971140748954)\n",
      "(95.60656224324975, 11.251334695530012)\n",
      "(120.07065795784048, 13.793585965307894)\n",
      "(78.84578142088199, 10.947184861270363)\n",
      "(85.95893812245295, 10.428187488260408)\n"
     ]
    }
   ],
   "source": [
    "for i in range(len(zipped)):\n",
    "   box = random.sample(zipped, 1)[0]\n",
    "   print(box)\n",
    "   zipped.remove(box)"
   ]
  },
  {
   "cell_type": "code",
   "execution_count": 45,
   "metadata": {},
   "outputs": [
    {
     "data": {
      "text/plain": [
       "(71.75392597329417, 11.503866065373549)"
      ]
     },
     "execution_count": 45,
     "metadata": {},
     "output_type": "execute_result"
    }
   ],
   "source": [
    "box_values"
   ]
  },
  {
   "cell_type": "code",
   "execution_count": 57,
   "metadata": {},
   "outputs": [],
   "source": [
    "import numpy as np\n",
    "\n",
    "def softmax(x):\n",
    "    return np.exp(x) / np.sum(np.exp(x), axis=0)\n",
    "\n",
    "def choose_based_on_acuity(choice_set, acuity):\n",
    "    # Normalize the choice set\n",
    "    normalized_choices = (choice_set - np.min(choice_set)) / (np.max(choice_set) - np.min(choice_set))\n",
    "\n",
    "    # Multiply by the acuity\n",
    "    acuity_adjusted_choices = normalized_choices * (acuity / 100)\n",
    "    print(acuity_adjusted_choices)\n",
    "\n",
    "    # Calculate probabilities using softmax\n",
    "    probabilities = softmax(acuity_adjusted_choices)\n",
    "\n",
    "    # Choose an element from the choice set based on the probabilities\n",
    "    choice = np.random.choice(choice_set, p=probabilities)\n",
    "\n",
    "    return choice, probabilities\n"
   ]
  },
  {
   "cell_type": "code",
   "execution_count": 59,
   "metadata": {},
   "outputs": [
    {
     "name": "stdout",
     "output_type": "stream",
     "text": [
      "[0. 0. 0. 0.]\n"
     ]
    }
   ],
   "source": [
    "choice = choose_based_on_acuity([0, 25, 75, 100], 0)"
   ]
  },
  {
   "cell_type": "code",
   "execution_count": null,
   "metadata": {},
   "outputs": [],
   "source": []
  }
 ],
 "metadata": {
  "kernelspec": {
   "display_name": "Python 3",
   "language": "python",
   "name": "python3"
  },
  "language_info": {
   "codemirror_mode": {
    "name": "ipython",
    "version": 3
   },
   "file_extension": ".py",
   "mimetype": "text/x-python",
   "name": "python",
   "nbconvert_exporter": "python",
   "pygments_lexer": "ipython3",
   "version": "3.10.1"
  },
  "orig_nbformat": 4
 },
 "nbformat": 4,
 "nbformat_minor": 2
}
