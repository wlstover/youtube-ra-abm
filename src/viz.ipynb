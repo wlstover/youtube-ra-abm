{
 "cells": [
  {
   "cell_type": "code",
   "execution_count": 1,
   "metadata": {},
   "outputs": [],
   "source": [
    "from mesa.visualization.modules import CanvasGrid\n",
    "from mesa.visualization.ModularVisualization import ModularServer\n",
    "from mesa.visualization.modules import ChartModule\n",
    "\n",
    "from video_recommendations import VideoRecommendationsModel, Watcher\n",
    "import solara\n",
    "from mesa.experimental import JupyterViz\n",
    "\n",
    "# Define the visualization elements\n",
    "# Define the visualization elements\n",
    "def agent_portrayal(agent):\n",
    "    portrayal = {\"shape\": \"circle\",\n",
    "                 \"filled\": \"true\",\n",
    "                 \"r\": 0.5,\n",
    "                 \"layer\": 0}\n",
    "\n",
    "    if isinstance(agent, Watcher):\n",
    "        if agent.type == 'searcher':\n",
    "            portrayal[\"color\"] = \"red\"\n",
    "        else:\n",
    "            portrayal[\"color\"] = \"black\"\n",
    "    else:\n",
    "        if agent.opened == True:\n",
    "            portrayal[\"color\"] = \"gray\"\n",
    "        elif agent.recommended == True:\n",
    "            portrayal[\"color\"] = \"green\"\n",
    "        else:\n",
    "            portrayal[\"color\"] = \"blue\"\n",
    "       #portrayal[\"shape\"] = \"triangle\"\n",
    "\n",
    "    return portrayal"
   ]
  },
  {
   "cell_type": "code",
   "execution_count": 4,
   "metadata": {},
   "outputs": [],
   "source": [
    "model_params = {\n",
    "\"num_agents\": {\n",
    "    \"type\": \"SliderInt\",\n",
    "    \"value\": 10,\n",
    "    \"label\": \"Number of searchers\",\n",
    "    \"min\": 10,\n",
    "    \"max\": 100,\n",
    "    \"step\": 1\n",
    "},\n",
    "\"agent_acuity_floor\": {\n",
    "    \"type\": \"SliderInt\",\n",
    "    \"label\": \"Agent Acuity Floor\",\n",
    "    \"value\": 10,\n",
    "    \"min\": 1,\n",
    "    \"max\": 100,\n",
    "    \"step\": 1\n",
    "},\n",
    "\n",
    "    \"agent_search_cost\": {\n",
    "    \"type\": \"SliderInt\",\n",
    "    \"label\": \"Agent Search Cost\",\n",
    "    \"value\": 10,\n",
    "    \"min\": 1,\n",
    "    \"max\": 100,\n",
    "    \"step\": 1\n",
    "    },\n",
    "\"recommender_acuity\": {\n",
    "    \"type\": \"SliderFloat\",\n",
    "    \"label\": \"Recommender System Accuity\",\n",
    "    \"value\": 0.5,\n",
    "    \"min\": 0,\n",
    "    \"max\": 1,\n",
    "    \"step\": 0.01\n",
    "},\n",
    "\"recommender_trust_step\": {\n",
    "    \"type\": \"SliderInt\",\n",
    "    \"label\": \"Recommender System Trust Step\",\n",
    "    \"value\": 1,\n",
    "    \"min\": 1,\n",
    "    \"max\": 10,\n",
    "    \"step\": 1\n",
    "},\n",
    "\"width\": 20,\n",
    "\"height\": 20\n",
    "}"
   ]
  },
  {
   "cell_type": "code",
   "execution_count": 5,
   "metadata": {},
   "outputs": [
    {
     "name": "stderr",
     "output_type": "stream",
     "text": [
      "C:\\Users\\walte\\AppData\\Roaming\\Python\\Python311\\site-packages\\mesa\\time.py:82: FutureWarning: The AgentSet is experimental. It may be changed or removed in any and all future releases, including patch releases.\n",
      "We would love to hear what you think about this new feature. If you have any thoughts, share them with us here: https://github.com/projectmesa/mesa/discussions/1919\n",
      "  self._agents: AgentSet = AgentSet(agents, model)\n",
      "Component react.component(mesa.experimental.jupyter_viz.JupyterViz) raised exception TypeError(\"Watcher.__init__() missing 1 required positional argument: 'search_cost'\")\n",
      "Traceback (most recent call last):\n",
      "  File \"C:\\Users\\walte\\AppData\\Roaming\\Python\\Python311\\site-packages\\reacton\\core.py\", line 1675, in _render\n",
      "    root_element = el.component.f(*el.args, **el.kwargs)\n",
      "                   ^^^^^^^^^^^^^^^^^^^^^^^^^^^^^^^^^^^^^\n",
      "  File \"C:\\Users\\walte\\AppData\\Roaming\\Python\\Python311\\site-packages\\mesa\\experimental\\jupyter_viz.py\", line 53, in JupyterViz\n",
      "    model = solara.use_memo(\n",
      "            ^^^^^^^^^^^^^^^^\n",
      "  File \"C:\\Users\\walte\\AppData\\Roaming\\Python\\Python311\\site-packages\\reacton\\core.py\", line 851, in use_memo\n",
      "    return rc.use_memo(f, dependencies, debug_name)\n",
      "           ^^^^^^^^^^^^^^^^^^^^^^^^^^^^^^^^^^^^^^^^\n",
      "  File \"C:\\Users\\walte\\AppData\\Roaming\\Python\\Python311\\site-packages\\reacton\\core.py\", line 1216, in use_memo\n",
      "    value = f()\n",
      "            ^^^\n",
      "  File \"C:\\Users\\walte\\AppData\\Roaming\\Python\\Python311\\site-packages\\mesa\\experimental\\jupyter_viz.py\", line 48, in make_model\n",
      "    model = model_class(**model_parameters)\n",
      "            ^^^^^^^^^^^^^^^^^^^^^^^^^^^^^^^\n",
      "  File \"c:\\Users\\walte\\OneDrive - George Mason University\\Papers\\recommendations\\src\\video_recommendations.py\", line 52, in __init__\n",
      "    agent = Watcher(uid, self, self.agent_acuity_floor, self.recommender_trust_step)\n",
      "            ^^^^^^^^^^^^^^^^^^^^^^^^^^^^^^^^^^^^^^^^^^^^^^^^^^^^^^^^^^^^^^^^^^^^^^^^\n",
      "TypeError: Watcher.__init__() missing 1 required positional argument: 'search_cost'\n"
     ]
    },
    {
     "data": {
      "application/vnd.jupyter.widget-view+json": {
       "model_id": "24c079312bc34488baaeb3a84087ab1d",
       "version_major": 2,
       "version_minor": 0
      },
      "text/html": [
       "Cannot show widget. You probably want to rerun the code cell above (<i>Click in the code cell, and press Shift+Enter <kbd>⇧</kbd>+<kbd>↩</kbd></i>)."
      ],
      "text/plain": [
       "Cannot show ipywidgets in text"
      ]
     },
     "metadata": {},
     "output_type": "display_data"
    }
   ],
   "source": [
    "page = JupyterViz(\n",
    "    VideoRecommendationsModel,\n",
    "    model_params,\n",
    "    measures=[[\"searcher_search_quality\", \"mimic_search_quality\"],\n",
    "              [\"percent_recommended\",\n",
    "              \"percent_videos_recommended_chosen\",\n",
    "              \"recommender_trust\"]],\n",
    "    name=\"Video Recommendations\",\n",
    "    agent_portrayal=agent_portrayal,\n",
    ")\n",
    "\n",
    "page"
   ]
  },
  {
   "cell_type": "code",
   "execution_count": null,
   "metadata": {},
   "outputs": [],
   "source": []
  }
 ],
 "metadata": {
  "kernelspec": {
   "display_name": "Python 3",
   "language": "python",
   "name": "python3"
  },
  "language_info": {
   "codemirror_mode": {
    "name": "ipython",
    "version": 3
   },
   "file_extension": ".py",
   "mimetype": "text/x-python",
   "name": "python",
   "nbconvert_exporter": "python",
   "pygments_lexer": "ipython3",
   "version": "3.11.4"
  }
 },
 "nbformat": 4,
 "nbformat_minor": 2
}
