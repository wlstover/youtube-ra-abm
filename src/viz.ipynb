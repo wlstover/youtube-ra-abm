{
 "cells": [
  {
   "cell_type": "code",
   "execution_count": 7,
   "metadata": {},
   "outputs": [],
   "source": [
    "from mesa.visualization.modules import CanvasGrid\n",
    "from mesa.visualization.ModularVisualization import ModularServer\n",
    "from mesa.visualization.modules import ChartModule\n",
    "\n",
    "from video_recommendations import VideoRecommendationsModel, Watcher\n",
    "import solara\n",
    "from mesa.experimental import JupyterViz\n",
    "\n",
    "# Define the visualization elements\n",
    "# Define the visualization elements\n",
    "def agent_portrayal(agent):\n",
    "    portrayal = {\"shape\": \"circle\",\n",
    "                 \"filled\": \"true\",\n",
    "                 \"r\": 0.5,\n",
    "                 \"layer\": 0}\n",
    "\n",
    "    if isinstance(agent, Watcher):\n",
    "        if agent.type == 'searcher':\n",
    "            portrayal[\"color\"] = \"red\"\n",
    "        else:\n",
    "            portrayal[\"color\"] = \"black\"\n",
    "    else:\n",
    "        if agent.opened == True:\n",
    "            portrayal[\"color\"] = \"gray\"\n",
    "        elif agent.recommended == True:\n",
    "            portrayal[\"color\"] = \"green\"\n",
    "        else:\n",
    "            portrayal[\"color\"] = \"blue\"\n",
    "       #portrayal[\"shape\"] = \"triangle\"\n",
    "\n",
    "    return portrayal"
   ]
  },
  {
   "cell_type": "code",
   "execution_count": 8,
   "metadata": {},
   "outputs": [],
   "source": [
    "model_params = {\n",
    "\"num_agents\": {\n",
    "    \"type\": \"SliderInt\",\n",
    "    \"value\": 10,\n",
    "    \"label\": \"Number of searchers\",\n",
    "    \"min\": 10,\n",
    "    \"max\": 100,\n",
    "    \"step\": 1\n",
    "},\n",
    "\"recommender_acuity\": {\n",
    "    \"type\": \"SliderFloat\",\n",
    "    \"label\": \"Recommender System Accuity\",\n",
    "    \"value\": 0.5,\n",
    "    \"min\": 0,\n",
    "    \"max\": 1,\n",
    "    \"step\": 0.01\n",
    "},\n",
    "\"recommender_trust_step\": {\n",
    "    \"type\": \"SliderInt\",\n",
    "    \"label\": \"Recommender System Trust Step\",\n",
    "    \"value\": 1,\n",
    "    \"min\": 1,\n",
    "    \"max\": 10,\n",
    "    \"step\": 1\n",
    "},\n",
    "\"width\": 20,\n",
    "\"height\": 20\n",
    "}"
   ]
  },
  {
   "cell_type": "code",
   "execution_count": 10,
   "metadata": {},
   "outputs": [
    {
     "data": {
      "application/vnd.jupyter.widget-view+json": {
       "model_id": "e28e259172374f68ab6f28653ef89f1d",
       "version_major": 2,
       "version_minor": 0
      },
      "text/html": [
       "Cannot show widget. You probably want to rerun the code cell above (<i>Click in the code cell, and press Shift+Enter <kbd>⇧</kbd>+<kbd>↩</kbd></i>)."
      ],
      "text/plain": [
       "Cannot show ipywidgets in text"
      ]
     },
     "metadata": {},
     "output_type": "display_data"
    }
   ],
   "source": [
    "page = JupyterViz(\n",
    "    VideoRecommendationsModel,\n",
    "    model_params,\n",
    "    measures=[[\"searcher_search_quality\", \"mimic_search_quality\"]],\n",
    "    name=\"Video Recommendations\",\n",
    "    agent_portrayal=agent_portrayal,\n",
    ")\n",
    "\n",
    "page"
   ]
  },
  {
   "cell_type": "code",
   "execution_count": null,
   "metadata": {},
   "outputs": [],
   "source": []
  }
 ],
 "metadata": {
  "kernelspec": {
   "display_name": "Python 3",
   "language": "python",
   "name": "python3"
  },
  "language_info": {
   "codemirror_mode": {
    "name": "ipython",
    "version": 3
   },
   "file_extension": ".py",
   "mimetype": "text/x-python",
   "name": "python",
   "nbconvert_exporter": "python",
   "pygments_lexer": "ipython3",
   "version": "3.11.4"
  }
 },
 "nbformat": 4,
 "nbformat_minor": 2
}
